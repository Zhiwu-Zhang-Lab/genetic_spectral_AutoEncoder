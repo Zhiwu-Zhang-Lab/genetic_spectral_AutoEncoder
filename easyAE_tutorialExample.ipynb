{
 "cells": [
  {
   "cell_type": "code",
   "execution_count": 1,
   "metadata": {},
   "outputs": [],
   "source": [
    "import sys"
   ]
  },
  {
   "cell_type": "code",
   "execution_count": 2,
   "metadata": {},
   "outputs": [
    {
     "name": "stdout",
     "output_type": "stream",
     "text": [
      "2.7.15 (default, Jan 12 2019, 22:20:12) \n",
      "[GCC 4.2.1 Compatible Apple LLVM 9.0.0 (clang-900.0.39.2)]\n"
     ]
    }
   ],
   "source": [
    "print sys.version"
   ]
  },
  {
   "cell_type": "markdown",
   "metadata": {},
   "source": [
    "importing the auto-encoder package"
   ]
  },
  {
   "cell_type": "code",
   "execution_count": 3,
   "metadata": {},
   "outputs": [],
   "source": [
    "import easyAE.AE as AE"
   ]
  },
  {
   "cell_type": "markdown",
   "metadata": {},
   "source": [
    "instantiating a variable that does autoEncoder work"
   ]
  },
  {
   "cell_type": "code",
   "execution_count": 4,
   "metadata": {},
   "outputs": [],
   "source": [
    "ae = AE.autoEncoder()"
   ]
  },
  {
   "cell_type": "markdown",
   "metadata": {},
   "source": [
    "loading example NIR data with 700 bands for 399 observations"
   ]
  },
  {
   "cell_type": "code",
   "execution_count": 5,
   "metadata": {},
   "outputs": [
    {
     "name": "stderr",
     "output_type": "stream",
     "text": [
      "/usr/local/lib/python2.7/site-packages/ipykernel_launcher.py:5: FutureWarning: read_table is deprecated, use read_csv instead, passing sep='\\t'.\n",
      "  \"\"\"\n",
      "/usr/local/lib/python2.7/site-packages/ipykernel_launcher.py:8: FutureWarning: read_table is deprecated, use read_csv instead, passing sep='\\t'.\n",
      "  \n",
      "/usr/local/lib/python2.7/site-packages/ipykernel_launcher.py:10: FutureWarning: read_table is deprecated, use read_csv instead, passing sep='\\t'.\n",
      "  # Remove the CWD from sys.path while we load stuff.\n"
     ]
    }
   ],
   "source": [
    "exec(open('/Users/samuelrevolinski/Desktop/AE_release/readInTestData.py').read())"
   ]
  },
  {
   "cell_type": "markdown",
   "metadata": {},
   "source": [
    "now loading the data into autoEncoder object"
   ]
  },
  {
   "cell_type": "code",
   "execution_count": 6,
   "metadata": {},
   "outputs": [],
   "source": [
    "ae.loadData(df)"
   ]
  },
  {
   "cell_type": "markdown",
   "metadata": {},
   "source": [
    "setting parameters, depth of network = 3, middle latent dimension size = 2, and learning rate = 0.01"
   ]
  },
  {
   "cell_type": "code",
   "execution_count": 7,
   "metadata": {},
   "outputs": [],
   "source": [
    "ae.setPara(3,2,0.01)"
   ]
  },
  {
   "cell_type": "markdown",
   "metadata": {},
   "source": [
    "training the network and encoding the data, for 100 epochs with a batch size of 32"
   ]
  },
  {
   "cell_type": "code",
   "execution_count": 62,
   "metadata": {},
   "outputs": [
    {
     "name": "stdout",
     "output_type": "stream",
     "text": [
      "_________________________________________________________________\n",
      "Layer (type)                 Output Shape              Param #   \n",
      "=================================================================\n",
      "dense_31 (Dense)             (None, 140)               98140     \n",
      "_________________________________________________________________\n",
      "dense_32 (Dense)             (None, 46)                6486      \n",
      "_________________________________________________________________\n",
      "bottleneck (Dense)           (None, 2)                 94        \n",
      "_________________________________________________________________\n",
      "dense_33 (Dense)             (None, 46)                138       \n",
      "_________________________________________________________________\n",
      "dense_34 (Dense)             (None, 140)               6580      \n",
      "_________________________________________________________________\n",
      "dense_35 (Dense)             (None, 700)               98700     \n",
      "=================================================================\n",
      "Total params: 210,138\n",
      "Trainable params: 210,138\n",
      "Non-trainable params: 0\n",
      "_________________________________________________________________\n",
      "('depth =', 3, ', mid_width =', 2, ', learning rate =', 0.01)\n",
      "Train on 359 samples, validate on 40 samples\n",
      "Epoch 1/100\n",
      "359/359 [==============================] - 1s 2ms/step - loss: 0.0385 - val_loss: 0.0268\n",
      "Epoch 2/100\n",
      "359/359 [==============================] - 0s 145us/step - loss: 0.0131 - val_loss: 0.0078\n",
      "Epoch 3/100\n",
      "359/359 [==============================] - 0s 161us/step - loss: 0.0051 - val_loss: 0.0031\n",
      "Epoch 4/100\n",
      "359/359 [==============================] - 0s 156us/step - loss: 0.0030 - val_loss: 0.0021\n",
      "Epoch 5/100\n",
      "359/359 [==============================] - 0s 156us/step - loss: 0.0020 - val_loss: 0.0015\n",
      "Epoch 6/100\n",
      "359/359 [==============================] - 0s 158us/step - loss: 0.0022 - val_loss: 0.0012\n",
      "Epoch 7/100\n",
      "359/359 [==============================] - 0s 151us/step - loss: 0.0016 - val_loss: 0.0012\n",
      "Epoch 8/100\n",
      "359/359 [==============================] - 0s 150us/step - loss: 0.0014 - val_loss: 9.9621e-04\n",
      "Epoch 9/100\n",
      "359/359 [==============================] - 0s 130us/step - loss: 0.0011 - val_loss: 8.7723e-04\n",
      "Epoch 10/100\n",
      "359/359 [==============================] - 0s 130us/step - loss: 0.0010 - val_loss: 7.1089e-04\n",
      "Epoch 11/100\n",
      "359/359 [==============================] - 0s 126us/step - loss: 8.1941e-04 - val_loss: 6.5951e-04\n",
      "Epoch 12/100\n",
      "359/359 [==============================] - 0s 131us/step - loss: 8.1465e-04 - val_loss: 6.0351e-04\n",
      "Epoch 13/100\n",
      "359/359 [==============================] - 0s 138us/step - loss: 7.4853e-04 - val_loss: 5.9435e-04\n",
      "Epoch 14/100\n",
      "359/359 [==============================] - 0s 144us/step - loss: 8.3880e-04 - val_loss: 6.3818e-04\n",
      "Epoch 15/100\n",
      "359/359 [==============================] - 0s 130us/step - loss: 7.7706e-04 - val_loss: 6.8573e-04\n",
      "Epoch 16/100\n",
      "359/359 [==============================] - 0s 134us/step - loss: 7.9438e-04 - val_loss: 0.0017\n",
      "Epoch 17/100\n",
      "359/359 [==============================] - 0s 137us/step - loss: 0.0021 - val_loss: 0.0025\n",
      "Epoch 18/100\n",
      "359/359 [==============================] - 0s 130us/step - loss: 0.0017 - val_loss: 0.0018\n",
      "Epoch 19/100\n",
      "359/359 [==============================] - 0s 126us/step - loss: 0.0014 - val_loss: 0.0015\n",
      "Epoch 20/100\n",
      "359/359 [==============================] - 0s 146us/step - loss: 0.0011 - val_loss: 7.4376e-04\n",
      "Epoch 21/100\n",
      "359/359 [==============================] - 0s 121us/step - loss: 8.0799e-04 - val_loss: 5.2930e-04\n",
      "Epoch 22/100\n",
      "359/359 [==============================] - 0s 140us/step - loss: 7.1041e-04 - val_loss: 5.8844e-04\n",
      "Epoch 23/100\n",
      "359/359 [==============================] - 0s 147us/step - loss: 7.5479e-04 - val_loss: 5.5016e-04\n",
      "Epoch 24/100\n",
      "359/359 [==============================] - 0s 130us/step - loss: 6.8746e-04 - val_loss: 4.5989e-04\n",
      "Epoch 25/100\n",
      "359/359 [==============================] - 0s 139us/step - loss: 6.8113e-04 - val_loss: 4.6065e-04\n",
      "Epoch 26/100\n",
      "359/359 [==============================] - 0s 131us/step - loss: 6.6820e-04 - val_loss: 6.8495e-04\n",
      "Epoch 27/100\n",
      "359/359 [==============================] - 0s 121us/step - loss: 7.7549e-04 - val_loss: 5.0545e-04\n",
      "Epoch 28/100\n",
      "359/359 [==============================] - 0s 123us/step - loss: 6.8960e-04 - val_loss: 4.6252e-04\n",
      "Epoch 29/100\n",
      "359/359 [==============================] - 0s 128us/step - loss: 7.0418e-04 - val_loss: 4.6338e-04\n",
      "Epoch 30/100\n",
      "359/359 [==============================] - 0s 127us/step - loss: 6.6650e-04 - val_loss: 4.9287e-04\n",
      "Epoch 31/100\n",
      "359/359 [==============================] - 0s 125us/step - loss: 6.5186e-04 - val_loss: 4.4173e-04\n",
      "Epoch 32/100\n",
      "359/359 [==============================] - 0s 118us/step - loss: 6.5156e-04 - val_loss: 4.0727e-04\n",
      "Epoch 33/100\n",
      "359/359 [==============================] - 0s 147us/step - loss: 6.4894e-04 - val_loss: 4.3819e-04\n",
      "Epoch 34/100\n",
      "359/359 [==============================] - 0s 149us/step - loss: 6.6480e-04 - val_loss: 4.3918e-04\n",
      "Epoch 35/100\n",
      "359/359 [==============================] - 0s 151us/step - loss: 7.0265e-04 - val_loss: 4.3362e-04\n",
      "Epoch 36/100\n",
      "359/359 [==============================] - 0s 127us/step - loss: 7.8710e-04 - val_loss: 5.5827e-04\n",
      "Epoch 37/100\n",
      "359/359 [==============================] - 0s 139us/step - loss: 6.6713e-04 - val_loss: 5.5868e-04\n",
      "Epoch 38/100\n",
      "359/359 [==============================] - 0s 136us/step - loss: 7.8959e-04 - val_loss: 8.2298e-04\n",
      "Epoch 39/100\n",
      "359/359 [==============================] - 0s 158us/step - loss: 7.9515e-04 - val_loss: 8.8276e-04\n",
      "Epoch 40/100\n",
      "359/359 [==============================] - 0s 121us/step - loss: 9.7282e-04 - val_loss: 7.2419e-04\n",
      "Epoch 41/100\n",
      "359/359 [==============================] - 0s 119us/step - loss: 0.0010 - val_loss: 8.8749e-04\n",
      "Epoch 42/100\n",
      "359/359 [==============================] - 0s 144us/step - loss: 9.0236e-04 - val_loss: 5.6334e-04\n",
      "Epoch 43/100\n",
      "359/359 [==============================] - 0s 136us/step - loss: 6.8577e-04 - val_loss: 5.5899e-04\n",
      "Epoch 44/100\n",
      "359/359 [==============================] - 0s 120us/step - loss: 7.2310e-04 - val_loss: 5.1826e-04\n",
      "Epoch 45/100\n",
      "359/359 [==============================] - 0s 129us/step - loss: 6.5437e-04 - val_loss: 4.2455e-04\n",
      "Epoch 46/100\n",
      "359/359 [==============================] - 0s 136us/step - loss: 6.2075e-04 - val_loss: 4.3180e-04\n",
      "Epoch 47/100\n",
      "359/359 [==============================] - 0s 121us/step - loss: 6.1711e-04 - val_loss: 5.5625e-04\n",
      "Epoch 48/100\n",
      "359/359 [==============================] - 0s 116us/step - loss: 6.9546e-04 - val_loss: 5.5402e-04\n",
      "Epoch 49/100\n",
      "359/359 [==============================] - 0s 120us/step - loss: 6.6044e-04 - val_loss: 7.1921e-04\n",
      "Epoch 50/100\n",
      "359/359 [==============================] - 0s 123us/step - loss: 7.9248e-04 - val_loss: 5.2817e-04\n",
      "Epoch 51/100\n",
      "359/359 [==============================] - 0s 127us/step - loss: 7.4050e-04 - val_loss: 6.6181e-04\n",
      "Epoch 52/100\n",
      "359/359 [==============================] - 0s 125us/step - loss: 7.6256e-04 - val_loss: 5.0284e-04\n",
      "Epoch 53/100\n",
      "359/359 [==============================] - 0s 121us/step - loss: 6.7651e-04 - val_loss: 4.2857e-04\n",
      "Epoch 54/100\n",
      "359/359 [==============================] - 0s 127us/step - loss: 6.2747e-04 - val_loss: 4.2308e-04\n",
      "Epoch 55/100\n",
      "359/359 [==============================] - 0s 127us/step - loss: 6.4728e-04 - val_loss: 4.7771e-04\n",
      "Epoch 56/100\n",
      "359/359 [==============================] - 0s 135us/step - loss: 6.5561e-04 - val_loss: 4.8988e-04\n",
      "Epoch 57/100\n",
      "359/359 [==============================] - 0s 138us/step - loss: 6.5439e-04 - val_loss: 5.6374e-04\n",
      "Epoch 58/100\n",
      "359/359 [==============================] - 0s 150us/step - loss: 7.1323e-04 - val_loss: 4.2226e-04\n",
      "Epoch 59/100\n",
      "359/359 [==============================] - 0s 133us/step - loss: 6.0984e-04 - val_loss: 4.3203e-04\n",
      "Epoch 60/100\n",
      "359/359 [==============================] - 0s 127us/step - loss: 6.2138e-04 - val_loss: 4.3530e-04\n",
      "Epoch 61/100\n",
      "359/359 [==============================] - 0s 130us/step - loss: 6.1186e-04 - val_loss: 4.5802e-04\n",
      "Epoch 62/100\n",
      "359/359 [==============================] - 0s 137us/step - loss: 6.0661e-04 - val_loss: 4.7200e-04\n",
      "Epoch 63/100\n",
      "359/359 [==============================] - 0s 131us/step - loss: 5.8355e-04 - val_loss: 3.9950e-04\n",
      "Epoch 64/100\n",
      "359/359 [==============================] - 0s 130us/step - loss: 5.9721e-04 - val_loss: 4.5410e-04\n",
      "Epoch 65/100\n",
      "359/359 [==============================] - 0s 130us/step - loss: 5.9535e-04 - val_loss: 4.2721e-04\n",
      "Epoch 66/100\n",
      "359/359 [==============================] - 0s 127us/step - loss: 6.1739e-04 - val_loss: 4.3189e-04\n",
      "Epoch 67/100\n",
      "359/359 [==============================] - 0s 124us/step - loss: 6.0348e-04 - val_loss: 3.9874e-04\n",
      "Epoch 68/100\n",
      "359/359 [==============================] - 0s 127us/step - loss: 5.9415e-04 - val_loss: 6.0258e-04\n",
      "Epoch 69/100\n",
      "359/359 [==============================] - 0s 119us/step - loss: 6.2942e-04 - val_loss: 3.9375e-04\n",
      "Epoch 70/100\n",
      "359/359 [==============================] - 0s 113us/step - loss: 5.9597e-04 - val_loss: 4.6690e-04\n",
      "Epoch 71/100\n",
      "359/359 [==============================] - 0s 111us/step - loss: 6.1171e-04 - val_loss: 5.9229e-04\n",
      "Epoch 72/100\n",
      "359/359 [==============================] - 0s 136us/step - loss: 6.3471e-04 - val_loss: 4.1639e-04\n",
      "Epoch 73/100\n",
      "359/359 [==============================] - 0s 126us/step - loss: 5.9046e-04 - val_loss: 3.9054e-04\n",
      "Epoch 74/100\n",
      "359/359 [==============================] - 0s 119us/step - loss: 5.7286e-04 - val_loss: 4.7515e-04\n",
      "Epoch 75/100\n",
      "359/359 [==============================] - 0s 118us/step - loss: 5.8212e-04 - val_loss: 4.5714e-04\n",
      "Epoch 76/100\n",
      "359/359 [==============================] - 0s 121us/step - loss: 5.9340e-04 - val_loss: 4.1503e-04\n",
      "Epoch 77/100\n",
      "359/359 [==============================] - 0s 116us/step - loss: 5.6724e-04 - val_loss: 4.5746e-04\n",
      "Epoch 78/100\n",
      "359/359 [==============================] - 0s 115us/step - loss: 6.2600e-04 - val_loss: 6.3842e-04\n",
      "Epoch 79/100\n",
      "359/359 [==============================] - 0s 128us/step - loss: 6.5613e-04 - val_loss: 3.9604e-04\n",
      "Epoch 80/100\n",
      "359/359 [==============================] - 0s 120us/step - loss: 5.8961e-04 - val_loss: 4.6657e-04\n",
      "Epoch 81/100\n",
      "359/359 [==============================] - 0s 113us/step - loss: 6.2951e-04 - val_loss: 5.3040e-04\n",
      "Epoch 82/100\n",
      "359/359 [==============================] - 0s 123us/step - loss: 5.7499e-04 - val_loss: 4.3884e-04\n",
      "Epoch 83/100\n",
      "359/359 [==============================] - 0s 115us/step - loss: 6.5630e-04 - val_loss: 4.4424e-04\n",
      "Epoch 84/100\n",
      "359/359 [==============================] - 0s 116us/step - loss: 7.2560e-04 - val_loss: 6.0233e-04\n",
      "Epoch 85/100\n",
      "359/359 [==============================] - 0s 121us/step - loss: 6.5246e-04 - val_loss: 5.5308e-04\n",
      "Epoch 86/100\n",
      "359/359 [==============================] - 0s 121us/step - loss: 6.9380e-04 - val_loss: 4.7255e-04\n",
      "Epoch 87/100\n",
      "359/359 [==============================] - 0s 120us/step - loss: 7.3287e-04 - val_loss: 4.8179e-04\n",
      "Epoch 88/100\n",
      "359/359 [==============================] - 0s 129us/step - loss: 6.8809e-04 - val_loss: 5.0344e-04\n",
      "Epoch 89/100\n",
      "359/359 [==============================] - 0s 127us/step - loss: 8.3987e-04 - val_loss: 5.5350e-04\n",
      "Epoch 90/100\n",
      "359/359 [==============================] - 0s 126us/step - loss: 6.6536e-04 - val_loss: 4.4188e-04\n",
      "Epoch 91/100\n",
      "359/359 [==============================] - 0s 121us/step - loss: 6.3616e-04 - val_loss: 4.9554e-04\n",
      "Epoch 92/100\n",
      "359/359 [==============================] - 0s 120us/step - loss: 6.3235e-04 - val_loss: 4.3783e-04\n",
      "Epoch 93/100\n",
      "359/359 [==============================] - 0s 131us/step - loss: 6.0248e-04 - val_loss: 4.3743e-04\n",
      "Epoch 94/100\n",
      "359/359 [==============================] - 0s 130us/step - loss: 6.4703e-04 - val_loss: 6.4769e-04\n",
      "Epoch 95/100\n",
      "359/359 [==============================] - 0s 133us/step - loss: 6.6972e-04 - val_loss: 5.3007e-04\n",
      "Epoch 96/100\n",
      "359/359 [==============================] - 0s 134us/step - loss: 6.3446e-04 - val_loss: 5.2138e-04\n",
      "Epoch 97/100\n",
      "359/359 [==============================] - 0s 132us/step - loss: 5.8574e-04 - val_loss: 3.9136e-04\n",
      "Epoch 98/100\n",
      "359/359 [==============================] - 0s 133us/step - loss: 5.7534e-04 - val_loss: 4.4851e-04\n",
      "Epoch 99/100\n",
      "359/359 [==============================] - 0s 140us/step - loss: 5.9870e-04 - val_loss: 5.0603e-04\n",
      "Epoch 100/100\n",
      "359/359 [==============================] - 0s 160us/step - loss: 6.0826e-04 - val_loss: 4.3326e-04\n"
     ]
    }
   ],
   "source": [
    "preds = ae.train(100,32)"
   ]
  },
  {
   "cell_type": "markdown",
   "metadata": {},
   "source": [
    "Now plotting the encoded values in 2 dimensions"
   ]
  },
  {
   "cell_type": "code",
   "execution_count": 63,
   "metadata": {},
   "outputs": [],
   "source": [
    "d1 = preds[1][:,0]\n",
    "d2 = preds[1][:,1]"
   ]
  },
  {
   "cell_type": "code",
   "execution_count": 64,
   "metadata": {},
   "outputs": [],
   "source": [
    "import seaborn as sns; sns.set()\n",
    "import matplotlib.pyplot as plt"
   ]
  },
  {
   "cell_type": "code",
   "execution_count": 65,
   "metadata": {},
   "outputs": [],
   "source": [
    "G = groups.tolist()"
   ]
  },
  {
   "cell_type": "code",
   "execution_count": 66,
   "metadata": {},
   "outputs": [],
   "source": [
    "dat = pd.DataFrame(d1,d2)"
   ]
  },
  {
   "cell_type": "code",
   "execution_count": 67,
   "metadata": {},
   "outputs": [],
   "source": [
    "dat['groups'] = G"
   ]
  },
  {
   "cell_type": "code",
   "execution_count": 68,
   "metadata": {},
   "outputs": [],
   "source": [
    "dat.reset_index(level=0, inplace=True)"
   ]
  },
  {
   "cell_type": "code",
   "execution_count": 69,
   "metadata": {},
   "outputs": [],
   "source": [
    "dat.columns = ['D1','D2','location']"
   ]
  },
  {
   "cell_type": "code",
   "execution_count": 70,
   "metadata": {},
   "outputs": [
    {
     "data": {
      "image/png": "[encoded data removed]",
      "text/plain": [
       "<Figure size 432x288 with 1 Axes>"
      ]
     },
     "metadata": {},
     "output_type": "display_data"
    }
   ],
   "source": [
    "pl = sns.scatterplot(x='D1',y='D2',hue='location',data=dat)"
   ]
  },
  {
   "cell_type": "code",
   "execution_count": null,
   "metadata": {},
   "outputs": [],
   "source": []
  }
 ],
 "metadata": {
  "kernelspec": {
   "display_name": "Python 2",
   "language": "python",
   "name": "python2"
  },
  "language_info": {
   "codemirror_mode": {
    "name": "ipython",
    "version": 2
   },
   "file_extension": ".py",
   "mimetype": "text/x-python",
   "name": "python",
   "nbconvert_exporter": "python",
   "pygments_lexer": "ipython2",
   "version": "2.7.15"
  }
 },
 "nbformat": 4,
 "nbformat_minor": 2
}
