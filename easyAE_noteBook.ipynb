{
 "cells": [
  {
   "cell_type": "code",
   "execution_count": 110,
   "metadata": {},
   "outputs": [],
   "source": [
    "import sys"
   ]
  },
  {
   "cell_type": "code",
   "execution_count": 111,
   "metadata": {},
   "outputs": [
    {
     "name": "stdout",
     "output_type": "stream",
     "text": [
      "2.7.15 (default, Jan 12 2019, 22:20:12) \n",
      "[GCC 4.2.1 Compatible Apple LLVM 9.0.0 (clang-900.0.39.2)]\n"
     ]
    }
   ],
   "source": [
    "print sys.version"
   ]
  },
  {
   "cell_type": "markdown",
   "metadata": {},
   "source": [
    "importing the auto-encoder package"
   ]
  },
  {
   "cell_type": "code",
   "execution_count": 112,
   "metadata": {},
   "outputs": [],
   "source": [
    "import easyAE.AE as AE"
   ]
  },
  {
   "cell_type": "markdown",
   "metadata": {},
   "source": [
    "instantiating a variable that does autoEncoder work"
   ]
  },
  {
   "cell_type": "code",
   "execution_count": 113,
   "metadata": {},
   "outputs": [],
   "source": [
    "ae = AE.autoEncoder()"
   ]
  },
  {
   "cell_type": "markdown",
   "metadata": {},
   "source": [
    "loading example NIR data with 700 bands for 399 observations"
   ]
  },
  {
   "cell_type": "code",
   "execution_count": 114,
   "metadata": {},
   "outputs": [
    {
     "name": "stderr",
     "output_type": "stream",
     "text": [
      "/usr/local/lib/python2.7/site-packages/ipykernel_launcher.py:5: FutureWarning: read_table is deprecated, use read_csv instead, passing sep='\\t'.\n",
      "  \"\"\"\n",
      "/usr/local/lib/python2.7/site-packages/ipykernel_launcher.py:8: FutureWarning: read_table is deprecated, use read_csv instead, passing sep='\\t'.\n",
      "  \n",
      "/usr/local/lib/python2.7/site-packages/ipykernel_launcher.py:10: FutureWarning: read_table is deprecated, use read_csv instead, passing sep='\\t'.\n",
      "  # Remove the CWD from sys.path while we load stuff.\n"
     ]
    }
   ],
   "source": [
    "exec(open('/Users/samuelrevolinski/Desktop/AE_release/readInTestData.py').read())"
   ]
  },
  {
   "cell_type": "markdown",
   "metadata": {},
   "source": [
    "now loading the data into autoEncoder object"
   ]
  },
  {
   "cell_type": "code",
   "execution_count": 115,
   "metadata": {},
   "outputs": [],
   "source": [
    "ae.loadData(df)"
   ]
  },
  {
   "cell_type": "markdown",
   "metadata": {},
   "source": [
    "setting parameters, depth of network = 3, middle latent dimension size = 2, and learning rate = 0.01"
   ]
  },
  {
   "cell_type": "code",
   "execution_count": 116,
   "metadata": {},
   "outputs": [],
   "source": [
    "ae.setPara(3,2,0.01)"
   ]
  },
  {
   "cell_type": "markdown",
   "metadata": {},
   "source": [
    "training the network and encoding the data, for 10 epochs with a batch size of 8"
   ]
  },
  {
   "cell_type": "code",
   "execution_count": 171,
   "metadata": {},
   "outputs": [
    {
     "name": "stdout",
     "output_type": "stream",
     "text": [
      "_________________________________________________________________\n",
      "Layer (type)                 Output Shape              Param #   \n",
      "=================================================================\n",
      "dense_51 (Dense)             (None, 140)               98140     \n",
      "_________________________________________________________________\n",
      "dense_52 (Dense)             (None, 46)                6486      \n",
      "_________________________________________________________________\n",
      "bottleneck (Dense)           (None, 2)                 94        \n",
      "_________________________________________________________________\n",
      "dense_53 (Dense)             (None, 46)                138       \n",
      "_________________________________________________________________\n",
      "dense_54 (Dense)             (None, 140)               6580      \n",
      "_________________________________________________________________\n",
      "dense_55 (Dense)             (None, 700)               98700     \n",
      "=================================================================\n",
      "Total params: 210,138\n",
      "Trainable params: 210,138\n",
      "Non-trainable params: 0\n",
      "_________________________________________________________________\n",
      "('depth =', 3, ', mid_width =', 2, ', learning rate =', 0.01)\n",
      "Train on 359 samples, validate on 40 samples\n",
      "Epoch 1/100\n",
      "359/359 [==============================] - 1s 3ms/step - loss: 0.0259 - val_loss: 0.0036\n",
      "Epoch 2/100\n",
      "359/359 [==============================] - 0s 280us/step - loss: 0.0040 - val_loss: 0.0028\n",
      "Epoch 3/100\n",
      "359/359 [==============================] - 0s 286us/step - loss: 0.0026 - val_loss: 0.0018\n",
      "Epoch 4/100\n",
      "359/359 [==============================] - 0s 264us/step - loss: 0.0022 - val_loss: 0.0020\n",
      "Epoch 5/100\n",
      "359/359 [==============================] - 0s 228us/step - loss: 0.0018 - val_loss: 0.0016\n",
      "Epoch 6/100\n",
      "359/359 [==============================] - 0s 222us/step - loss: 0.0017 - val_loss: 0.0026\n",
      "Epoch 7/100\n",
      "359/359 [==============================] - 0s 228us/step - loss: 0.0030 - val_loss: 0.0043\n",
      "Epoch 8/100\n",
      "359/359 [==============================] - 0s 217us/step - loss: 0.0036 - val_loss: 0.0050\n",
      "Epoch 9/100\n",
      "359/359 [==============================] - 0s 212us/step - loss: 0.0023 - val_loss: 9.6772e-04\n",
      "Epoch 10/100\n",
      "359/359 [==============================] - 0s 214us/step - loss: 0.0011 - val_loss: 0.0011\n",
      "Epoch 11/100\n",
      "359/359 [==============================] - 0s 218us/step - loss: 0.0012 - val_loss: 9.9854e-04\n",
      "Epoch 12/100\n",
      "359/359 [==============================] - 0s 229us/step - loss: 8.6713e-04 - val_loss: 0.0010\n",
      "Epoch 13/100\n",
      "359/359 [==============================] - 0s 223us/step - loss: 8.9323e-04 - val_loss: 7.5036e-04\n",
      "Epoch 14/100\n",
      "359/359 [==============================] - 0s 230us/step - loss: 7.7776e-04 - val_loss: 8.5456e-04\n",
      "Epoch 15/100\n",
      "359/359 [==============================] - 0s 251us/step - loss: 8.1158e-04 - val_loss: 7.4189e-04\n",
      "Epoch 16/100\n",
      "359/359 [==============================] - 0s 235us/step - loss: 7.9542e-04 - val_loss: 8.4425e-04\n",
      "Epoch 17/100\n",
      "359/359 [==============================] - 0s 216us/step - loss: 9.3260e-04 - val_loss: 9.2784e-04\n",
      "Epoch 18/100\n",
      "359/359 [==============================] - 0s 231us/step - loss: 7.9818e-04 - val_loss: 7.1791e-04\n",
      "Epoch 19/100\n",
      "359/359 [==============================] - 0s 209us/step - loss: 7.6182e-04 - val_loss: 6.9847e-04\n",
      "Epoch 20/100\n",
      "359/359 [==============================] - 0s 217us/step - loss: 7.9647e-04 - val_loss: 7.5432e-04\n",
      "Epoch 21/100\n",
      "359/359 [==============================] - 0s 232us/step - loss: 7.7918e-04 - val_loss: 0.0016\n",
      "Epoch 22/100\n",
      "359/359 [==============================] - 0s 246us/step - loss: 0.0014 - val_loss: 9.0470e-04\n",
      "Epoch 23/100\n",
      "359/359 [==============================] - 0s 260us/step - loss: 7.1201e-04 - val_loss: 6.6347e-04\n",
      "Epoch 24/100\n",
      "359/359 [==============================] - 0s 235us/step - loss: 7.1398e-04 - val_loss: 6.8281e-04\n",
      "Epoch 25/100\n",
      "359/359 [==============================] - 0s 224us/step - loss: 7.3082e-04 - val_loss: 7.0175e-04\n",
      "Epoch 26/100\n",
      "359/359 [==============================] - 0s 233us/step - loss: 9.7342e-04 - val_loss: 7.1978e-04\n",
      "Epoch 27/100\n",
      "359/359 [==============================] - 0s 264us/step - loss: 8.1793e-04 - val_loss: 6.9232e-04\n",
      "Epoch 28/100\n",
      "359/359 [==============================] - 0s 250us/step - loss: 7.0628e-04 - val_loss: 7.4099e-04\n",
      "Epoch 29/100\n",
      "359/359 [==============================] - 0s 223us/step - loss: 7.3339e-04 - val_loss: 0.0011\n",
      "Epoch 30/100\n",
      "359/359 [==============================] - 0s 231us/step - loss: 7.6794e-04 - val_loss: 6.6039e-04\n",
      "Epoch 31/100\n",
      "359/359 [==============================] - 0s 226us/step - loss: 7.2299e-04 - val_loss: 6.4472e-04\n",
      "Epoch 32/100\n",
      "359/359 [==============================] - 0s 220us/step - loss: 6.7484e-04 - val_loss: 6.7536e-04\n",
      "Epoch 33/100\n",
      "359/359 [==============================] - 0s 201us/step - loss: 6.4445e-04 - val_loss: 6.2290e-04\n",
      "Epoch 34/100\n",
      "359/359 [==============================] - 0s 224us/step - loss: 6.7079e-04 - val_loss: 8.7618e-04\n",
      "Epoch 35/100\n",
      "359/359 [==============================] - 0s 228us/step - loss: 7.9970e-04 - val_loss: 9.3910e-04\n",
      "Epoch 36/100\n",
      "359/359 [==============================] - 0s 282us/step - loss: 7.3907e-04 - val_loss: 8.0559e-04\n",
      "Epoch 37/100\n",
      "359/359 [==============================] - 0s 267us/step - loss: 8.3715e-04 - val_loss: 7.2971e-04\n",
      "Epoch 38/100\n",
      "359/359 [==============================] - 0s 237us/step - loss: 8.5025e-04 - val_loss: 0.0019\n",
      "Epoch 39/100\n",
      "359/359 [==============================] - 0s 218us/step - loss: 0.0013 - val_loss: 0.0014\n",
      "Epoch 40/100\n",
      "359/359 [==============================] - 0s 225us/step - loss: 9.6831e-04 - val_loss: 7.8538e-04\n",
      "Epoch 41/100\n",
      "359/359 [==============================] - 0s 226us/step - loss: 7.2784e-04 - val_loss: 7.1998e-04\n",
      "Epoch 42/100\n",
      "359/359 [==============================] - 0s 228us/step - loss: 6.2911e-04 - val_loss: 7.5730e-04\n",
      "Epoch 43/100\n",
      "359/359 [==============================] - 0s 279us/step - loss: 7.5608e-04 - val_loss: 7.5914e-04\n",
      "Epoch 44/100\n",
      "359/359 [==============================] - 0s 232us/step - loss: 7.7816e-04 - val_loss: 6.8193e-04\n",
      "Epoch 45/100\n",
      "359/359 [==============================] - 0s 271us/step - loss: 7.6626e-04 - val_loss: 7.1364e-04\n",
      "Epoch 46/100\n",
      "359/359 [==============================] - 0s 241us/step - loss: 6.2930e-04 - val_loss: 7.0007e-04\n",
      "Epoch 47/100\n",
      "359/359 [==============================] - 0s 292us/step - loss: 7.2116e-04 - val_loss: 9.0626e-04\n",
      "Epoch 48/100\n",
      "359/359 [==============================] - 0s 278us/step - loss: 6.7355e-04 - val_loss: 6.6709e-04\n",
      "Epoch 49/100\n",
      "359/359 [==============================] - 0s 297us/step - loss: 6.0018e-04 - val_loss: 6.3161e-04\n",
      "Epoch 50/100\n",
      "359/359 [==============================] - 0s 248us/step - loss: 6.3036e-04 - val_loss: 6.3343e-04\n",
      "Epoch 51/100\n",
      "359/359 [==============================] - 0s 232us/step - loss: 5.8399e-04 - val_loss: 6.3428e-04\n",
      "Epoch 52/100\n",
      "359/359 [==============================] - 0s 237us/step - loss: 6.3727e-04 - val_loss: 7.9521e-04\n",
      "Epoch 53/100\n",
      "359/359 [==============================] - 0s 225us/step - loss: 8.2341e-04 - val_loss: 7.6555e-04\n",
      "Epoch 54/100\n",
      "359/359 [==============================] - 0s 226us/step - loss: 7.0698e-04 - val_loss: 7.3823e-04\n",
      "Epoch 55/100\n",
      "359/359 [==============================] - 0s 204us/step - loss: 6.3567e-04 - val_loss: 6.5880e-04\n",
      "Epoch 56/100\n",
      "359/359 [==============================] - 0s 259us/step - loss: 6.0458e-04 - val_loss: 7.0997e-04\n",
      "Epoch 57/100\n",
      "359/359 [==============================] - 0s 220us/step - loss: 6.2084e-04 - val_loss: 7.2972e-04\n",
      "Epoch 58/100\n",
      "359/359 [==============================] - 0s 252us/step - loss: 6.8807e-04 - val_loss: 6.8336e-04\n",
      "Epoch 59/100\n",
      "359/359 [==============================] - 0s 342us/step - loss: 9.8520e-04 - val_loss: 0.0011\n",
      "Epoch 60/100\n",
      "359/359 [==============================] - 0s 292us/step - loss: 0.0012 - val_loss: 8.1455e-04\n",
      "Epoch 61/100\n",
      "359/359 [==============================] - 0s 261us/step - loss: 0.0010 - val_loss: 6.5523e-04\n",
      "Epoch 62/100\n",
      "359/359 [==============================] - 0s 274us/step - loss: 7.8845e-04 - val_loss: 8.0417e-04\n",
      "Epoch 63/100\n",
      "359/359 [==============================] - 0s 266us/step - loss: 7.5796e-04 - val_loss: 8.4223e-04\n",
      "Epoch 64/100\n"
     ]
    },
    {
     "name": "stdout",
     "output_type": "stream",
     "text": [
      "359/359 [==============================] - 0s 277us/step - loss: 7.2513e-04 - val_loss: 6.9457e-04\n",
      "Epoch 65/100\n",
      "359/359 [==============================] - 0s 268us/step - loss: 7.2522e-04 - val_loss: 7.2850e-04\n",
      "Epoch 66/100\n",
      "359/359 [==============================] - 0s 243us/step - loss: 7.0845e-04 - val_loss: 0.0014\n",
      "Epoch 67/100\n",
      "359/359 [==============================] - 0s 335us/step - loss: 8.4176e-04 - val_loss: 7.4262e-04\n",
      "Epoch 68/100\n",
      "359/359 [==============================] - 0s 287us/step - loss: 6.7997e-04 - val_loss: 6.7724e-04\n",
      "Epoch 69/100\n",
      "359/359 [==============================] - ETA: 0s - loss: 7.0424e-0 - 0s 258us/step - loss: 6.8481e-04 - val_loss: 8.9022e-04\n",
      "Epoch 70/100\n",
      "359/359 [==============================] - 0s 275us/step - loss: 6.7398e-04 - val_loss: 7.3248e-04\n",
      "Epoch 71/100\n",
      "359/359 [==============================] - 0s 270us/step - loss: 6.3057e-04 - val_loss: 8.0386e-04\n",
      "Epoch 72/100\n",
      "359/359 [==============================] - 0s 252us/step - loss: 6.2494e-04 - val_loss: 8.4165e-04\n",
      "Epoch 73/100\n",
      "359/359 [==============================] - 0s 254us/step - loss: 6.6195e-04 - val_loss: 7.5279e-04\n",
      "Epoch 74/100\n",
      "359/359 [==============================] - 0s 228us/step - loss: 7.0451e-04 - val_loss: 6.5539e-04\n",
      "Epoch 75/100\n",
      "359/359 [==============================] - 0s 251us/step - loss: 5.9522e-04 - val_loss: 7.1129e-04\n",
      "Epoch 76/100\n",
      "359/359 [==============================] - 0s 242us/step - loss: 6.6492e-04 - val_loss: 6.4907e-04\n",
      "Epoch 77/100\n",
      "359/359 [==============================] - 0s 237us/step - loss: 6.4860e-04 - val_loss: 6.7337e-04\n",
      "Epoch 78/100\n",
      "359/359 [==============================] - 0s 239us/step - loss: 6.5131e-04 - val_loss: 7.2120e-04\n",
      "Epoch 79/100\n",
      "359/359 [==============================] - 0s 244us/step - loss: 6.0752e-04 - val_loss: 6.3456e-04\n",
      "Epoch 80/100\n",
      "359/359 [==============================] - 0s 311us/step - loss: 5.6304e-04 - val_loss: 6.5069e-04\n",
      "Epoch 81/100\n",
      "359/359 [==============================] - 0s 228us/step - loss: 5.7129e-04 - val_loss: 7.9473e-04\n",
      "Epoch 82/100\n",
      "359/359 [==============================] - 0s 222us/step - loss: 6.0017e-04 - val_loss: 8.2962e-04\n",
      "Epoch 83/100\n",
      "359/359 [==============================] - 0s 225us/step - loss: 7.1777e-04 - val_loss: 8.4997e-04\n",
      "Epoch 84/100\n",
      "359/359 [==============================] - 0s 231us/step - loss: 6.1200e-04 - val_loss: 0.0014\n",
      "Epoch 85/100\n",
      "359/359 [==============================] - 0s 205us/step - loss: 9.0517e-04 - val_loss: 8.1849e-04\n",
      "Epoch 86/100\n",
      "359/359 [==============================] - 0s 213us/step - loss: 7.4172e-04 - val_loss: 8.8478e-04\n",
      "Epoch 87/100\n",
      "359/359 [==============================] - 0s 214us/step - loss: 8.3569e-04 - val_loss: 8.1686e-04\n",
      "Epoch 88/100\n",
      "359/359 [==============================] - 0s 216us/step - loss: 6.7404e-04 - val_loss: 7.5989e-04\n",
      "Epoch 89/100\n",
      "359/359 [==============================] - 0s 227us/step - loss: 0.0010 - val_loss: 0.0013\n",
      "Epoch 90/100\n",
      "359/359 [==============================] - 0s 225us/step - loss: 7.7609e-04 - val_loss: 7.4213e-04\n",
      "Epoch 91/100\n",
      "359/359 [==============================] - 0s 229us/step - loss: 6.1889e-04 - val_loss: 6.8259e-04\n",
      "Epoch 92/100\n",
      "359/359 [==============================] - 0s 221us/step - loss: 5.9228e-04 - val_loss: 6.7104e-04\n",
      "Epoch 93/100\n",
      "359/359 [==============================] - 0s 224us/step - loss: 6.1989e-04 - val_loss: 0.0011\n",
      "Epoch 94/100\n",
      "359/359 [==============================] - 0s 209us/step - loss: 7.0692e-04 - val_loss: 0.0011\n",
      "Epoch 95/100\n",
      "359/359 [==============================] - 0s 223us/step - loss: 9.0980e-04 - val_loss: 0.0012\n",
      "Epoch 96/100\n",
      "359/359 [==============================] - 0s 220us/step - loss: 8.4352e-04 - val_loss: 7.9979e-04\n",
      "Epoch 97/100\n",
      "359/359 [==============================] - 0s 216us/step - loss: 0.0012 - val_loss: 9.2536e-04\n",
      "Epoch 98/100\n",
      "359/359 [==============================] - 0s 225us/step - loss: 0.0011 - val_loss: 8.1882e-04\n",
      "Epoch 99/100\n",
      "359/359 [==============================] - 0s 223us/step - loss: 8.4526e-04 - val_loss: 7.0854e-04\n",
      "Epoch 100/100\n",
      "359/359 [==============================] - 0s 210us/step - loss: 7.5622e-04 - val_loss: 6.2677e-04\n"
     ]
    }
   ],
   "source": [
    "preds = ae.train(100,16)"
   ]
  },
  {
   "cell_type": "markdown",
   "metadata": {},
   "source": [
    "Now plotting the encoded values in 3 dimensions"
   ]
  },
  {
   "cell_type": "code",
   "execution_count": 172,
   "metadata": {},
   "outputs": [],
   "source": [
    "d1 = preds[1][:,0]\n",
    "d2 = preds[1][:,1]\n",
    "x = d1.tolist()\n",
    "y = d2.tolist()"
   ]
  },
  {
   "cell_type": "code",
   "execution_count": 173,
   "metadata": {},
   "outputs": [],
   "source": [
    "import seaborn as sns; sns.set()\n",
    "import matplotlib.pyplot as plt\n",
    "import numpy as np"
   ]
  },
  {
   "cell_type": "code",
   "execution_count": 174,
   "metadata": {},
   "outputs": [],
   "source": [
    "G = groups.tolist()"
   ]
  },
  {
   "cell_type": "code",
   "execution_count": 175,
   "metadata": {},
   "outputs": [],
   "source": [
    "dat = pd.DataFrame(d1,d2)"
   ]
  },
  {
   "cell_type": "code",
   "execution_count": 176,
   "metadata": {},
   "outputs": [],
   "source": [
    "dat['groups'] = G"
   ]
  },
  {
   "cell_type": "code",
   "execution_count": 177,
   "metadata": {},
   "outputs": [],
   "source": [
    "dat.reset_index(level=0, inplace=True)"
   ]
  },
  {
   "cell_type": "code",
   "execution_count": 178,
   "metadata": {},
   "outputs": [],
   "source": [
    "dat.columns = ['D1','D2','location']"
   ]
  },
  {
   "cell_type": "code",
   "execution_count": 179,
   "metadata": {},
   "outputs": [
    {
     "data": {
      "image/png": "[encoded data removed]",
      "text/plain": [
       "<Figure size 432x288 with 1 Axes>"
      ]
     },
     "metadata": {},
     "output_type": "display_data"
    }
   ],
   "source": [
    "pl = sns.scatterplot(x='D1',y='D2',hue='location',data=dat)"
   ]
  },
  {
   "cell_type": "code",
   "execution_count": null,
   "metadata": {},
   "outputs": [],
   "source": []
  }
 ],
 "metadata": {
  "kernelspec": {
   "display_name": "Python 2",
   "language": "python",
   "name": "python2"
  },
  "language_info": {
   "codemirror_mode": {
    "name": "ipython",
    "version": 2
   },
   "file_extension": ".py",
   "mimetype": "text/x-python",
   "name": "python",
   "nbconvert_exporter": "python",
   "pygments_lexer": "ipython2",
   "version": "2.7.15"
  }
 },
 "nbformat": 4,
 "nbformat_minor": 2
}
